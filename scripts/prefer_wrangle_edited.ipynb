{
 "cells": [
  {
   "cell_type": "code",
   "execution_count": null,
   "id": "ccffd80d-3b3a-4692-ae2c-352fc15bd439",
   "metadata": {},
   "outputs": [],
   "source": [
    "## SunnyX9\n",
    "## 22.4.2024\n",
    "## PreFer data challenge"
   ]
  },
  {
   "cell_type": "code",
   "execution_count": null,
   "id": "e5de0677-930c-4a7f-a379-ef3f0d4e121e",
   "metadata": {},
   "outputs": [],
   "source": [
    "import sys\n",
    "print(sys.version)\n",
    "# needs to be 3.11.7 to match PreFer submission"
   ]
  },
  {
   "cell_type": "code",
   "execution_count": null,
   "id": "403e8155-96b1-4ef7-bf20-0e383669845a",
   "metadata": {},
   "outputs": [],
   "source": [
    "import pandas as pd\n",
    "\n",
    "file_path = ''\n",
    "df = pd.read_csv(file_path)\n",
    "\n",
    "print(df.head())"
   ]
  },
  {
   "cell_type": "code",
   "execution_count": null,
   "id": "c4831966-6e0b-4067-812d-d5f09a2e71ef",
   "metadata": {},
   "outputs": [],
   "source": [
    "# filter to only include cases with outcome known: N 987\n",
    "\n",
    "file_path = ''\n",
    "outcome = pd.read_csv(file_path)\n",
    "\n",
    "outcome = outcome.dropna(subset=['new_child'])\n",
    "\n",
    "df_filt = df[df['nomem_encr'].isin(outcome['nomem_encr'])]\n",
    "\n",
    "unique_cases = df_filt['nomem_encr'].nunique()\n",
    "\n",
    "print(\"Number of unique cases in 'nomem_encr':\", unique_cases)\n"
   ]
  },
  {
   "cell_type": "code",
   "execution_count": null,
   "id": "41a5e26b-843e-4295-a1d0-8667967feb83",
   "metadata": {},
   "outputs": [],
   "source": [
    "# drop some background vars\n",
    "# how does our algorithm react to multicolleniarity?\n",
    "\n",
    "columns_to_drop = [\"positie\", \"lftdcat\", \"lftdhhh\", \"aantalhh\", \"woonvorm\", \"brutoink\", \"nettoink\", \"brutocat\", \"nettocat\", \"oplcat\", \"doetmee\", \"simpc\", \"netinc\", \"nettoink_f\", \"nettohh_f\", \"werving\", \"age_imp\"] \n",
    "df_filt.drop(columns=columns_to_drop, axis=1, inplace=True)\n",
    "\n",
    "df_filt.head()"
   ]
  },
  {
   "cell_type": "code",
   "execution_count": null,
   "id": "4f4b7ea6-06ce-4dc1-8603-fcacb8048c7e",
   "metadata": {},
   "outputs": [],
   "source": [
    "# correlation\n",
    "\n",
    "import seaborn as sns\n",
    "import matplotlib.pyplot as plt\n",
    "\n",
    "corr = df_filt.corr()\n",
    "\n",
    "plt.figure(figsize=(10, 8))\n",
    "sns.heatmap(corr, annot=True, fmt=\".2f\", cmap='coolwarm',\n",
    "            xticklabels=corr.columns, yticklabels=corr.columns,\n",
    "            linewidths=.5, cbar_kws={\"shrink\": .5})\n",
    "\n",
    "plt.title('Correlation Matrix')\n",
    "plt.show()\n"
   ]
  },
  {
   "cell_type": "code",
   "execution_count": null,
   "id": "370ef472-5751-4be4-8701-800e971d45f4",
   "metadata": {},
   "outputs": [],
   "source": [
    "# into categories\n",
    "# income vars separating 0 values as Q0, top 5% as Q5, and in between into quartiles Q1-Q4\n",
    "\n",
    "cols_to_cat = ['brutoink_f', 'brutohh_f']\n",
    "for column in cols_to_cat:\n",
    "    df_filt[column + '_cat'] = 'Q0'  \n",
    "    df_filt.loc[df[column] > 0, column + '_cat'] = pd.NA  \n",
    "    df_filt.loc[df[column].isna(), column + '_cat'] = pd.NA\n",
    "\n",
    "    non_zero_non_na_mask = (df_filt[column] > 0) & (~df_filt[column].isna())\n",
    "    if non_zero_non_na_mask.any(): \n",
    "        quantiles = df_filt.loc[non_zero_non_na_mask, column].quantile([0.0, 0.25, 0.5, 0.75, 0.95, 1]).tolist()\n",
    "        labels = ['Q1', 'Q2', 'Q3', 'Q4', 'Q5']  \n",
    "        df_filt.loc[non_zero_non_na_mask, column + '_cat'] = pd.cut(df_filt.loc[non_zero_non_na_mask, column], \n",
    "                                                                     bins=quantiles, labels=labels, include_lowest=True)\n",
    "\n",
    "print(df_filt['brutoink_f_cat'].value_counts(dropna=False))\n",
    "print(df_filt['brutohh_f_cat'].value_counts(dropna=False))\n",
    "\n",
    "cols_to_drop = ['brutoink_f', 'brutohh_f']\n",
    "df_filt.drop(columns=cols_to_drop, axis=1, inplace=True)"
   ]
  },
  {
   "cell_type": "code",
   "execution_count": null,
   "id": "40e514ba-0d8e-4d43-8738-da0630170285",
   "metadata": {},
   "outputs": [],
   "source": [
    "# into categories\n",
    "# rest were already grouped into categories, just converting the type\n",
    "\n",
    "columns_to_convert = [\"wave\", \"aantalki\", \"partner\", \"burgstat\", \"woning\", \"belbezig\", \"oplzon\", \"oplmet\", \"sted\", \"birthyear_imp\", \"gender_imp\", \"migration_background_imp\", \"brutoink_f_cat\", \"brutohh_f_cat\"]\n",
    "\n",
    "for column in columns_to_convert:\n",
    "    df_filt[column] = df_filt[column].astype('category')\n",
    "\n",
    "print(df_filt.dtypes)\n",
    "\n",
    "# now only nomem_encr & nohouse_encr are integers                  "
   ]
  },
  {
   "cell_type": "code",
   "execution_count": null,
   "id": "99901edb-b3a5-46c8-b062-f2ba4e3456ad",
   "metadata": {},
   "outputs": [],
   "source": []
  },
  {
   "cell_type": "code",
   "execution_count": null,
   "id": "796b37c6-9175-4c37-9ef8-1470566adb6c",
   "metadata": {},
   "outputs": [],
   "source": [
    "## NA per case \n",
    "\n",
    "unique_cases = df_filt.iloc[:, 0].unique()\n",
    "total_variables = len(df_filt.columns) - 1\n",
    "\n",
    "for case in unique_cases:\n",
    "\n",
    "    df_case = df_filt[df_filt.iloc[:, 0] == case]\n",
    "    \n",
    "    total_instances = df_case.shape[0]\n",
    "    \n",
    "    missing_values = df_case.iloc[:, 1:].isnull().sum().sum()\n",
    "    \n",
    "    total_possible_values = total_instances * total_variables\n",
    "    \n",
    "    share_of_missing = (missing_values / total_possible_values) * 100\n",
    "    \n",
    "    print(f\"case {case}: {missing_values} missing values out of {total_possible_values} possible values, {share_of_missing:.2f}% missing, {total_instances} instances\")\n",
    "\n",
    "# case = person\n",
    "# missing values = per person\n",
    "# instances = total rows per person"
   ]
  },
  {
   "cell_type": "code",
   "execution_count": null,
   "id": "2ee1134d-112f-4729-80bc-57d2ca70cfd8",
   "metadata": {},
   "outputs": [],
   "source": [
    "# NA per predictor\n",
    "for column in df_filt.columns[1:]:\n",
    "    missing_count = df_filt[column].isnull().sum()\n",
    "    print(f\"{column} contains {missing_count} missing values\")\n",
    "\n",
    "# lots of NAs:\n",
    "# gross and net income\n",
    "# migration background\n",
    "# level of urbanisation (sted)"
   ]
  },
  {
   "cell_type": "code",
   "execution_count": null,
   "id": "b0ae5fa5-5eb3-4cf3-9f45-a3d74d4db84c",
   "metadata": {},
   "outputs": [],
   "source": []
  }
 ],
 "metadata": {
  "kernelspec": {
   "display_name": "Python 3 (ipykernel)",
   "language": "python",
   "name": "python3"
  },
  "language_info": {
   "codemirror_mode": {
    "name": "ipython",
    "version": 3
   },
   "file_extension": ".py",
   "mimetype": "text/x-python",
   "name": "python",
   "nbconvert_exporter": "python",
   "pygments_lexer": "ipython3",
   "version": "3.11.7"
  }
 },
 "nbformat": 4,
 "nbformat_minor": 5
}
