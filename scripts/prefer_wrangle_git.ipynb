{
 "cells": [
  {
   "cell_type": "code",
   "execution_count": null,
   "id": "ccffd80d-3b3a-4692-ae2c-352fc15bd439",
   "metadata": {},
   "outputs": [],
   "source": [
    "## SunnyX9\n",
    "## 10.4.2024\n",
    "## PreFer data challenge"
   ]
  },
  {
   "cell_type": "code",
   "execution_count": null,
   "id": "4f2b3c66-c23e-46ce-9d6e-a0dda4876d66",
   "metadata": {},
   "outputs": [],
   "source": []
  },
  {
   "cell_type": "code",
   "execution_count": null,
   "id": "403e8155-96b1-4ef7-bf20-0e383669845a",
   "metadata": {},
   "outputs": [],
   "source": [
    "import pandas as pd\n",
    "\n",
    "file_path = \"/PreFer_train_background_data.csv\"\n",
    "df = pd.read_csv(file_path)\n",
    "\n",
    "print(df.head())"
   ]
  },
  {
   "cell_type": "code",
   "execution_count": null,
   "id": "647c6ffa-0292-46b9-83cc-cea17686a9e2",
   "metadata": {},
   "outputs": [],
   "source": [
    "## NA per case \n",
    "\n",
    "unique_cases = df.iloc[:, 0].unique()\n",
    "total_variables = len(df.columns) - 1\n",
    "\n",
    "for case in unique_cases:\n",
    "\n",
    "    df_case = df[df.iloc[:, 0] == case]\n",
    "    \n",
    "    total_instances = df_case.shape[0]\n",
    "    \n",
    "    missing_values = df_case.iloc[:, 1:].isnull().sum().sum()\n",
    "    \n",
    "    total_possible_values = total_instances * total_variables\n",
    "    \n",
    "    share_of_missing = (missing_values / total_possible_values) * 100\n",
    "    \n",
    "    print(f\"case {case}: {missing_values} missing values out of {total_possible_values} possible values, {share_of_missing:.2f}% missing, {total_instances} instances\")\n",
    "\n",
    "# case = person\n",
    "# missing values = per person\n",
    "# instances = total rows per person"
   ]
  },
  {
   "cell_type": "code",
   "execution_count": null,
   "id": "8547dda4-5dcf-4dda-9c86-43f194924131",
   "metadata": {},
   "outputs": [],
   "source": [
    "# NA per predictor\n",
    "\n",
    "for column in df.columns[1:]:\n",
    "    missing_count = df[column].isnull().sum()\n",
    "    print(f\"{column} contains {missing_count} missing values\")\n",
    "\n",
    "# lots of NAs:\n",
    "# gross and net income\n",
    "# level of urbanisation (sted)\n",
    "# edu level CBS (oplcat)\n",
    "# recruiting wave (werving)\n",
    "# migration background"
   ]
  },
  {
   "cell_type": "code",
   "execution_count": null,
   "id": "7a84494d-4d5e-4449-b8c9-42777f21f138",
   "metadata": {},
   "outputs": [],
   "source": [
    "# correlation\n",
    "\n",
    "import seaborn as sns\n",
    "import matplotlib.pyplot as plt\n",
    "\n",
    "corr = df.corr()\n",
    "\n",
    "plt.figure(figsize=(10, 8))\n",
    "sns.heatmap(corr, annot=True, fmt=\".2f\", cmap='coolwarm',\n",
    "            xticklabels=corr.columns, yticklabels=corr.columns,\n",
    "            linewidths=.5, cbar_kws={\"shrink\": .5})\n",
    "\n",
    "plt.title('Correlation Matrix')\n",
    "plt.show()\n"
   ]
  },
  {
   "cell_type": "code",
   "execution_count": null,
   "id": "41a5e26b-843e-4295-a1d0-8667967feb83",
   "metadata": {},
   "outputs": [],
   "source": [
    "# drop some income predictors to speed things up\n",
    "# how does our algorithm react to multicolleniarity?\n",
    "\n",
    "columns_to_drop = ['brutocat', 'nettocat', 'brutohh_f', 'nettohh_f'] \n",
    "df.drop(columns=columns_to_drop, axis=1, inplace=True)\n"
   ]
  },
  {
   "cell_type": "code",
   "execution_count": null,
   "id": "bafb32f6-5c16-4a19-879a-d7889842b99c",
   "metadata": {},
   "outputs": [],
   "source": [
    "from sklearn.impute import KNNImputer\n",
    "from sklearn.preprocessing import StandardScaler\n",
    "from sklearn.pipeline import Pipeline\n",
    "import time"
   ]
  },
  {
   "cell_type": "code",
   "execution_count": null,
   "id": "e301e507-98ba-4e0a-8300-49d163562b1a",
   "metadata": {},
   "outputs": [],
   "source": [
    "## pipeline for imputing and scaling\n",
    "\n",
    "print(\"Starting imputation \")\n",
    "start_time = time.time()\n",
    "print(start_time)\n",
    "imputer = KNNImputer(n_neighbors=3)\n",
    "df_imp = imputer.fit_transform(df)\n",
    "print(\"Imputation completed in {:.2f} seconds.\".format(time.time() - start_time))\n",
    "\n",
    "print(\"Starting scaling \")\n",
    "start_time = time.time()\n",
    "print(start_time)\n",
    "scaler = StandardScaler()\n",
    "df_scaled = scaler.fit_transform(df_imp)\n",
    "print(\"Scaling completed in {:.2f} seconds.\".format(time.time() - start_time))\n",
    "\n",
    "df_imputed = pd.DataFrame(df_scaled, columns=df.columns)\n",
    "\n",
    "print(\"Pipeline execution completed.\")\n"
   ]
  },
  {
   "cell_type": "code",
   "execution_count": null,
   "id": "ddd4ea8b-cf84-4163-a3b5-bcabf7d60415",
   "metadata": {},
   "outputs": [],
   "source": [
    "df_imputed.to_csv(\"df_imputed.csv\", index=False)"
   ]
  },
  {
   "cell_type": "code",
   "execution_count": null,
   "id": "e14c499d-8aed-4627-8dc5-21abbabd8f92",
   "metadata": {},
   "outputs": [],
   "source": [
    "# pipeline for only scaling\n",
    "\n",
    "pipe_scaled = Pipeline([(\n",
    "    'scaler', StandardScaler()\n",
    ")])\n",
    "\n",
    "# data only scaled\n",
    "df_scaled = pipe_scaled.fit_transform(df)\n",
    "df_scaled = pd.DataFrame(df_scaled, columns=df.columns)"
   ]
  },
  {
   "cell_type": "code",
   "execution_count": null,
   "id": "115e2053-48b7-4448-96ea-5b5393d7c85e",
   "metadata": {},
   "outputs": [],
   "source": [
    "df_scaled.to_csv(\"df_scaled.csv\", index=False)"
   ]
  }
 ],
 "metadata": {
  "kernelspec": {
   "display_name": "Python 3 (ipykernel)",
   "language": "python",
   "name": "python3"
  },
  "language_info": {
   "codemirror_mode": {
    "name": "ipython",
    "version": 3
   },
   "file_extension": ".py",
   "mimetype": "text/x-python",
   "name": "python",
   "nbconvert_exporter": "python",
   "pygments_lexer": "ipython3",
   "version": "3.12.2"
  }
 },
 "nbformat": 4,
 "nbformat_minor": 5
}
